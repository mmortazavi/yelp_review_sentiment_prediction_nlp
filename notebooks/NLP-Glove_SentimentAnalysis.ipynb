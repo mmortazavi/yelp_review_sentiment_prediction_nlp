{
 "cells": [
  {
   "cell_type": "markdown",
   "metadata": {},
   "source": [
    "# Yelp Reveiw Analysis"
   ]
  },
  {
   "cell_type": "code",
   "execution_count": 214,
   "metadata": {},
   "outputs": [
    {
     "name": "stdout",
     "output_type": "stream",
     "text": [
      "The autoreload extension is already loaded. To reload it, use:\n",
      "  %reload_ext autoreload\n"
     ]
    }
   ],
   "source": [
    "%load_ext autoreload\n",
    "%autoreload 2"
   ]
  },
  {
   "cell_type": "code",
   "execution_count": 217,
   "metadata": {
    "scrolled": false
   },
   "outputs": [
    {
     "name": "stdout",
     "output_type": "stream",
     "text": [
      "Using TensorFlow backend.\n",
      "--------------------------------------------------\n",
      "Reading and Cleaning Data...\n",
      "Reading and Cleaning Took 1948.70 s.\n",
      "--------------------------------------------------\n",
      "Tokenizing and Padding (pad_size = 100)...\n",
      "Tokenizing and Padding Took 19.87 s.\n",
      "\n",
      "--------------------------------------------------\n",
      "Train, Test Split...\n",
      "Train, Test Split Took 0.90 s.\n",
      "--------------------------------------------------\n",
      "Creating Embedding Matrix...\n",
      "Found Word Vecs:  400000\n",
      "--------------------------------------------------\n",
      "Training Model...\n",
      "WARNING:tensorflow:From /Users/majidmortazavi/anaconda3/lib/python3.6/site-packages/tensorflow/python/framework/op_def_library.py:263: colocate_with (from tensorflow.python.framework.ops) is deprecated and will be removed in a future version.\n",
      "Instructions for updating:\n",
      "Colocations handled automatically by placer.\n",
      "WARNING:tensorflow:From /Users/majidmortazavi/anaconda3/lib/python3.6/site-packages/keras/backend/tensorflow_backend.py:3445: calling dropout (from tensorflow.python.ops.nn_ops) with keep_prob is deprecated and will be removed in a future version.\n",
      "Instructions for updating:\n",
      "Please use `rate` instead of `keep_prob`. Rate should be set to `rate = 1 - keep_prob`.\n",
      "WARNING:tensorflow:From /Users/majidmortazavi/anaconda3/lib/python3.6/site-packages/tensorflow/python/ops/math_ops.py:3066: to_int32 (from tensorflow.python.ops.math_ops) is deprecated and will be removed in a future version.\n",
      "Instructions for updating:\n",
      "Use tf.cast instead.\n",
      "WARNING:tensorflow:From /Users/majidmortazavi/anaconda3/lib/python3.6/site-packages/tensorflow/python/ops/math_grad.py:102: div (from tensorflow.python.ops.math_ops) is deprecated and will be removed in a future version.\n",
      "Instructions for updating:\n",
      "Deprecated in favor of operator or tf.math.divide.\n",
      "Train on 80000 samples, validate on 20000 samples\n",
      "Epoch 1/20\n",
      "80000/80000 [==============================] - 217s 3ms/step - loss: 0.4156 - acc: 0.8058 - val_loss: 0.3105 - val_acc: 0.8642\n",
      "Epoch 2/20\n",
      "80000/80000 [==============================] - 201s 3ms/step - loss: 0.3136 - acc: 0.8650 - val_loss: 0.2947 - val_acc: 0.8739\n",
      "Epoch 3/20\n",
      "80000/80000 [==============================] - 192s 2ms/step - loss: 0.2888 - acc: 0.8768 - val_loss: 0.2743 - val_acc: 0.8834\n",
      "Epoch 4/20\n",
      "80000/80000 [==============================] - 193s 2ms/step - loss: 0.2726 - acc: 0.8845 - val_loss: 0.2619 - val_acc: 0.8883\n",
      "Epoch 5/20\n",
      "80000/80000 [==============================] - 174s 2ms/step - loss: 0.2605 - acc: 0.8907 - val_loss: 0.2559 - val_acc: 0.8930\n",
      "Epoch 6/20\n",
      "80000/80000 [==============================] - 172s 2ms/step - loss: 0.2488 - acc: 0.8964 - val_loss: 0.2637 - val_acc: 0.8901\n",
      "Epoch 7/20\n",
      "80000/80000 [==============================] - 172s 2ms/step - loss: 0.2408 - acc: 0.9004 - val_loss: 0.2637 - val_acc: 0.8887\n",
      "Epoch 8/20\n",
      "80000/80000 [==============================] - 171s 2ms/step - loss: 0.2327 - acc: 0.9036 - val_loss: 0.2615 - val_acc: 0.8901\n",
      "Epoch 9/20\n",
      "80000/80000 [==============================] - 203s 3ms/step - loss: 0.2259 - acc: 0.9074 - val_loss: 0.2477 - val_acc: 0.8953\n",
      "Epoch 10/20\n",
      "80000/80000 [==============================] - 178s 2ms/step - loss: 0.2169 - acc: 0.9116 - val_loss: 0.2484 - val_acc: 0.8966\n",
      "Epoch 11/20\n",
      "80000/80000 [==============================] - 183s 2ms/step - loss: 0.2123 - acc: 0.9141 - val_loss: 0.2486 - val_acc: 0.8981\n",
      "Epoch 12/20\n",
      "80000/80000 [==============================] - 183s 2ms/step - loss: 0.2063 - acc: 0.9163 - val_loss: 0.2553 - val_acc: 0.8962\n",
      "Epoch 13/20\n",
      "80000/80000 [==============================] - 170s 2ms/step - loss: 0.2020 - acc: 0.9185 - val_loss: 0.2493 - val_acc: 0.8971\n",
      "Epoch 14/20\n",
      "80000/80000 [==============================] - 170s 2ms/step - loss: 0.1951 - acc: 0.9223 - val_loss: 0.2522 - val_acc: 0.8960\n",
      "Epoch 15/20\n",
      "80000/80000 [==============================] - 164s 2ms/step - loss: 0.1913 - acc: 0.9225 - val_loss: 0.2592 - val_acc: 0.8956\n",
      "Epoch 16/20\n",
      "80000/80000 [==============================] - 162s 2ms/step - loss: 0.1856 - acc: 0.9251 - val_loss: 0.2645 - val_acc: 0.8913\n",
      "Epoch 17/20\n",
      "80000/80000 [==============================] - 171s 2ms/step - loss: 0.1818 - acc: 0.9280 - val_loss: 0.2587 - val_acc: 0.8949\n",
      "Epoch 18/20\n",
      "80000/80000 [==============================] - 200s 3ms/step - loss: 0.1764 - acc: 0.9301 - val_loss: 0.2581 - val_acc: 0.8951\n",
      "Epoch 19/20\n",
      "80000/80000 [==============================] - 184s 2ms/step - loss: 0.1732 - acc: 0.9304 - val_loss: 0.2670 - val_acc: 0.8915\n",
      "Epoch 20/20\n",
      "80000/80000 [==============================] - 203s 3ms/step - loss: 0.1689 - acc: 0.9327 - val_loss: 0.2754 - val_acc: 0.8923\n",
      "Training Complete in 3666.44 s.\n",
      "--------------------------------------------------\n",
      "\n",
      "Model Training Hostory Saved in Results Directory.\n",
      "\n",
      "--------------------------------------------------\n",
      "Model Performance:\n",
      "Score: 89.22\n",
      "Classification Report:\n",
      "               precision    recall  f1-score   support\n",
      "\n",
      "    Negative       0.85      0.82      0.84      6706\n",
      "    Positive       0.91      0.93      0.92     13294\n",
      "\n",
      "   micro avg       0.89      0.89      0.89     20000\n",
      "   macro avg       0.88      0.88      0.88     20000\n",
      "weighted avg       0.89      0.89      0.89     20000\n",
      "\n",
      "--------------------------------------------------\n"
     ]
    }
   ],
   "source": [
    "!python ../setup.py"
   ]
  },
  {
   "cell_type": "code",
   "execution_count": null,
   "metadata": {},
   "outputs": [],
   "source": []
  }
 ],
 "metadata": {
  "kernelspec": {
   "display_name": "Python 3",
   "language": "python",
   "name": "python3"
  },
  "language_info": {
   "codemirror_mode": {
    "name": "ipython",
    "version": 3
   },
   "file_extension": ".py",
   "mimetype": "text/x-python",
   "name": "python",
   "nbconvert_exporter": "python",
   "pygments_lexer": "ipython3",
   "version": "3.6.8"
  },
  "nbTranslate": {
   "displayLangs": [
    "*"
   ],
   "hotkey": "alt-t",
   "langInMainMenu": true,
   "sourceLang": "en",
   "targetLang": "fr",
   "useGoogleTranslate": true
  },
  "toc": {
   "nav_menu": {},
   "number_sections": true,
   "sideBar": true,
   "skip_h1_title": false,
   "title_cell": "Table of Contents",
   "title_sidebar": "Contents",
   "toc_cell": false,
   "toc_position": {},
   "toc_section_display": true,
   "toc_window_display": false
  },
  "varInspector": {
   "cols": {
    "lenName": 16,
    "lenType": 16,
    "lenVar": 40
   },
   "kernels_config": {
    "python": {
     "delete_cmd_postfix": "",
     "delete_cmd_prefix": "del ",
     "library": "var_list.py",
     "varRefreshCmd": "print(var_dic_list())"
    },
    "r": {
     "delete_cmd_postfix": ") ",
     "delete_cmd_prefix": "rm(",
     "library": "var_list.r",
     "varRefreshCmd": "cat(var_dic_list()) "
    }
   },
   "types_to_exclude": [
    "module",
    "function",
    "builtin_function_or_method",
    "instance",
    "_Feature"
   ],
   "window_display": false
  }
 },
 "nbformat": 4,
 "nbformat_minor": 2
}
