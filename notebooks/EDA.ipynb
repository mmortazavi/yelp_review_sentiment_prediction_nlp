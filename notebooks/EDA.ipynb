{
 "cells": [
  {
   "cell_type": "markdown",
   "metadata": {},
   "source": [
    "# Yelp Reveiw Analysis"
   ]
  },
  {
   "cell_type": "code",
   "execution_count": 37,
   "metadata": {},
   "outputs": [
    {
     "name": "stdout",
     "output_type": "stream",
     "text": [
      "The autoreload extension is already loaded. To reload it, use:\n",
      "  %reload_ext autoreload\n"
     ]
    }
   ],
   "source": [
    "%load_ext autoreload\n",
    "%autoreload 2"
   ]
  },
  {
   "cell_type": "code",
   "execution_count": 65,
   "metadata": {},
   "outputs": [],
   "source": [
    "## standard libs\n",
    "import pandas as pd\n",
    "import re\n",
    "import numpy as np\n",
    "import seaborn as sns\n",
    "import nltk\n",
    "import string\n",
    "from nltk.corpus import stopwords\n",
    "import string\n",
    "import operator \n",
    "import math\n",
    "from sklearn.feature_extraction.text import CountVectorizer\n",
    "from sklearn.model_selection import train_test_split, cross_val_score\n",
    "from sklearn.metrics import classification_report\n",
    "from sklearn.metrics import confusion_matrix, accuracy_score, roc_auc_score, roc_curve\n",
    "import matplotlib.pyplot as plt\n",
    "from tqdm import tqdm\n",
    "\n",
    "import os\n",
    "import sys\n",
    "module_path = os.path.abspath(os.path.join('..'))\n",
    "if module_path not in sys.path:\n",
    "    sys.path.append(module_path)\n",
    "    \n",
    "## cutome modules\n",
    "from yelp.data import read_json_to_df\n",
    "from yelp.utils import get_text_lengh\n",
    "from yelp.utils import target_binning\n",
    "from yelp.utils import plot_mean_frequency\n",
    "from yelp.utils import get_bayesian_estimates\n",
    "from yelp.utils import top_businesses\n",
    "from yelp.preprocessing import text_clean\n",
    "from yelp.preprocessing import get_wordcloud\n",
    "from yelp.preprocessing import tokenize\n",
    "\n",
    "tqdm.pandas()\n",
    "\n",
    "%matplotlib inline"
   ]
  },
  {
   "cell_type": "markdown",
   "metadata": {},
   "source": [
    "## Data"
   ]
  },
  {
   "cell_type": "code",
   "execution_count": 66,
   "metadata": {},
   "outputs": [
    {
     "data": {
      "text/plain": [
       "(100000, 9)"
      ]
     },
     "execution_count": 66,
     "metadata": {},
     "output_type": "execute_result"
    }
   ],
   "source": [
    "DATA_PATH = '/Users/majidmortazavi/data_sciences/case_studies/NewYorker/data/'\n",
    "DATA_FILE = 'review.json'\n",
    "\n",
    "df = read_json_to_df(DATA_PATH, DATA_FILE, chunk_size = 100000)\n",
    "df.shape"
   ]
  },
  {
   "cell_type": "code",
   "execution_count": 67,
   "metadata": {},
   "outputs": [
    {
     "data": {
      "text/html": [
       "<div>\n",
       "<style scoped>\n",
       "    .dataframe tbody tr th:only-of-type {\n",
       "        vertical-align: middle;\n",
       "    }\n",
       "\n",
       "    .dataframe tbody tr th {\n",
       "        vertical-align: top;\n",
       "    }\n",
       "\n",
       "    .dataframe thead th {\n",
       "        text-align: right;\n",
       "    }\n",
       "</style>\n",
       "<table border=\"1\" class=\"dataframe\">\n",
       "  <thead>\n",
       "    <tr style=\"text-align: right;\">\n",
       "      <th></th>\n",
       "      <th>business_id</th>\n",
       "      <th>cool</th>\n",
       "      <th>date</th>\n",
       "      <th>funny</th>\n",
       "      <th>review_id</th>\n",
       "      <th>stars</th>\n",
       "      <th>text</th>\n",
       "      <th>useful</th>\n",
       "      <th>user_id</th>\n",
       "    </tr>\n",
       "  </thead>\n",
       "  <tbody>\n",
       "    <tr>\n",
       "      <th>0</th>\n",
       "      <td>ujmEBvifdJM6h6RLv4wQIg</td>\n",
       "      <td>0</td>\n",
       "      <td>2013-05-07 04:34:36</td>\n",
       "      <td>1</td>\n",
       "      <td>Q1sbwvVQXV2734tPgoKj4Q</td>\n",
       "      <td>1</td>\n",
       "      <td>Total bill for this horrible service? Over $8G...</td>\n",
       "      <td>6</td>\n",
       "      <td>hG7b0MtEbXx5QzbzE6C_VA</td>\n",
       "    </tr>\n",
       "    <tr>\n",
       "      <th>1</th>\n",
       "      <td>NZnhc2sEQy3RmzKTZnqtwQ</td>\n",
       "      <td>0</td>\n",
       "      <td>2017-01-14 21:30:33</td>\n",
       "      <td>0</td>\n",
       "      <td>GJXCdrto3ASJOqKeVWPi6Q</td>\n",
       "      <td>5</td>\n",
       "      <td>I *adore* Travis at the Hard Rock's new Kelly ...</td>\n",
       "      <td>0</td>\n",
       "      <td>yXQM5uF2jS6es16SJzNHfg</td>\n",
       "    </tr>\n",
       "  </tbody>\n",
       "</table>\n",
       "</div>"
      ],
      "text/plain": [
       "              business_id  cool                date  funny  \\\n",
       "0  ujmEBvifdJM6h6RLv4wQIg     0 2013-05-07 04:34:36      1   \n",
       "1  NZnhc2sEQy3RmzKTZnqtwQ     0 2017-01-14 21:30:33      0   \n",
       "\n",
       "                review_id  stars  \\\n",
       "0  Q1sbwvVQXV2734tPgoKj4Q      1   \n",
       "1  GJXCdrto3ASJOqKeVWPi6Q      5   \n",
       "\n",
       "                                                text  useful  \\\n",
       "0  Total bill for this horrible service? Over $8G...       6   \n",
       "1  I *adore* Travis at the Hard Rock's new Kelly ...       0   \n",
       "\n",
       "                  user_id  \n",
       "0  hG7b0MtEbXx5QzbzE6C_VA  \n",
       "1  yXQM5uF2jS6es16SJzNHfg  "
      ]
     },
     "execution_count": 67,
     "metadata": {},
     "output_type": "execute_result"
    }
   ],
   "source": [
    "df.head(2)"
   ]
  },
  {
   "cell_type": "markdown",
   "metadata": {},
   "source": [
    "## Features"
   ]
  },
  {
   "cell_type": "code",
   "execution_count": 68,
   "metadata": {},
   "outputs": [],
   "source": [
    "df['clean_text'] = df['text'].apply(lambda tx: text_clean(tx))"
   ]
  },
  {
   "cell_type": "code",
   "execution_count": 69,
   "metadata": {},
   "outputs": [],
   "source": [
    "df = target_binning(df)"
   ]
  },
  {
   "cell_type": "code",
   "execution_count": 70,
   "metadata": {},
   "outputs": [],
   "source": [
    "df['text_length'] = df['text'].apply(len)\n",
    "df['clean_text_length'] = df['clean_text'].apply(len)"
   ]
  },
  {
   "cell_type": "code",
   "execution_count": 71,
   "metadata": {},
   "outputs": [
    {
     "data": {
      "text/html": [
       "<div>\n",
       "<style scoped>\n",
       "    .dataframe tbody tr th:only-of-type {\n",
       "        vertical-align: middle;\n",
       "    }\n",
       "\n",
       "    .dataframe tbody tr th {\n",
       "        vertical-align: top;\n",
       "    }\n",
       "\n",
       "    .dataframe thead th {\n",
       "        text-align: right;\n",
       "    }\n",
       "</style>\n",
       "<table border=\"1\" class=\"dataframe\">\n",
       "  <thead>\n",
       "    <tr style=\"text-align: right;\">\n",
       "      <th></th>\n",
       "      <th>business_id</th>\n",
       "      <th>cool</th>\n",
       "      <th>date</th>\n",
       "      <th>funny</th>\n",
       "      <th>review_id</th>\n",
       "      <th>stars</th>\n",
       "      <th>text</th>\n",
       "      <th>useful</th>\n",
       "      <th>user_id</th>\n",
       "      <th>clean_text</th>\n",
       "      <th>labels</th>\n",
       "      <th>text_length</th>\n",
       "      <th>clean_text_length</th>\n",
       "    </tr>\n",
       "  </thead>\n",
       "  <tbody>\n",
       "    <tr>\n",
       "      <th>0</th>\n",
       "      <td>ujmEBvifdJM6h6RLv4wQIg</td>\n",
       "      <td>0</td>\n",
       "      <td>2013-05-07 04:34:36</td>\n",
       "      <td>1</td>\n",
       "      <td>Q1sbwvVQXV2734tPgoKj4Q</td>\n",
       "      <td>1</td>\n",
       "      <td>Total bill for this horrible service? Over $8G...</td>\n",
       "      <td>6</td>\n",
       "      <td>hG7b0MtEbXx5QzbzE6C_VA</td>\n",
       "      <td>Total bill horrible service 8Gs crooks actuall...</td>\n",
       "      <td>Negative</td>\n",
       "      <td>204</td>\n",
       "      <td>121</td>\n",
       "    </tr>\n",
       "    <tr>\n",
       "      <th>1</th>\n",
       "      <td>NZnhc2sEQy3RmzKTZnqtwQ</td>\n",
       "      <td>0</td>\n",
       "      <td>2017-01-14 21:30:33</td>\n",
       "      <td>0</td>\n",
       "      <td>GJXCdrto3ASJOqKeVWPi6Q</td>\n",
       "      <td>5</td>\n",
       "      <td>I *adore* Travis at the Hard Rock's new Kelly ...</td>\n",
       "      <td>0</td>\n",
       "      <td>yXQM5uF2jS6es16SJzNHfg</td>\n",
       "      <td>adore Travis Hard Rocks new Kelly Cardenas Sal...</td>\n",
       "      <td>Positive</td>\n",
       "      <td>1561</td>\n",
       "      <td>1046</td>\n",
       "    </tr>\n",
       "  </tbody>\n",
       "</table>\n",
       "</div>"
      ],
      "text/plain": [
       "              business_id  cool                date  funny  \\\n",
       "0  ujmEBvifdJM6h6RLv4wQIg     0 2013-05-07 04:34:36      1   \n",
       "1  NZnhc2sEQy3RmzKTZnqtwQ     0 2017-01-14 21:30:33      0   \n",
       "\n",
       "                review_id  stars  \\\n",
       "0  Q1sbwvVQXV2734tPgoKj4Q      1   \n",
       "1  GJXCdrto3ASJOqKeVWPi6Q      5   \n",
       "\n",
       "                                                text  useful  \\\n",
       "0  Total bill for this horrible service? Over $8G...       6   \n",
       "1  I *adore* Travis at the Hard Rock's new Kelly ...       0   \n",
       "\n",
       "                  user_id                                         clean_text  \\\n",
       "0  hG7b0MtEbXx5QzbzE6C_VA  Total bill horrible service 8Gs crooks actuall...   \n",
       "1  yXQM5uF2jS6es16SJzNHfg  adore Travis Hard Rocks new Kelly Cardenas Sal...   \n",
       "\n",
       "     labels  text_length  clean_text_length  \n",
       "0  Negative          204                121  \n",
       "1  Positive         1561               1046  "
      ]
     },
     "execution_count": 71,
     "metadata": {},
     "output_type": "execute_result"
    }
   ],
   "source": [
    "df.head(2)"
   ]
  },
  {
   "cell_type": "markdown",
   "metadata": {},
   "source": [
    "## EDA"
   ]
  },
  {
   "cell_type": "markdown",
   "metadata": {},
   "source": [
    "### Text Lenght vs Stars"
   ]
  },
  {
   "cell_type": "code",
   "execution_count": 72,
   "metadata": {},
   "outputs": [
    {
     "data": {
      "image/png": "[encoded data removed]",
      "text/plain": [
       "<Figure size 1080x216 with 5 Axes>"
      ]
     },
     "metadata": {
      "needs_background": "light"
     },
     "output_type": "display_data"
    }
   ],
   "source": [
    "graph = sns.FacetGrid(data=df,col='stars')\n",
    "graph.map(plt.hist,'text_length',bins=50,color='blue');"
   ]
  },
  {
   "cell_type": "code",
   "execution_count": 73,
   "metadata": {},
   "outputs": [
    {
     "data": {
      "image/png": "[encoded data removed]",
      "text/plain": [
       "<Figure size 1080x216 with 5 Axes>"
      ]
     },
     "metadata": {
      "needs_background": "light"
     },
     "output_type": "display_data"
    }
   ],
   "source": [
    "graph = sns.FacetGrid(data=df,col='stars')\n",
    "graph.map(plt.hist,'clean_text_length',bins=50,color='blue');"
   ]
  },
  {
   "cell_type": "code",
   "execution_count": 81,
   "metadata": {},
   "outputs": [
    {
     "data": {
      "image/png": "[encoded data removed]",
      "text/plain": [
       "<Figure size 432x216 with 2 Axes>"
      ]
     },
     "metadata": {
      "needs_background": "light"
     },
     "output_type": "display_data"
    }
   ],
   "source": [
    "graph = sns.FacetGrid(data=df,col='labels')\n",
    "graph.map(plt.hist,'clean_text_length',bins=50,color='blue');"
   ]
  },
  {
   "cell_type": "markdown",
   "metadata": {},
   "source": [
    "### Mean of Variables vs. Stars"
   ]
  },
  {
   "cell_type": "code",
   "execution_count": 74,
   "metadata": {},
   "outputs": [
    {
     "data": {
      "text/html": [
       "<div>\n",
       "<style scoped>\n",
       "    .dataframe tbody tr th:only-of-type {\n",
       "        vertical-align: middle;\n",
       "    }\n",
       "\n",
       "    .dataframe tbody tr th {\n",
       "        vertical-align: top;\n",
       "    }\n",
       "\n",
       "    .dataframe thead th {\n",
       "        text-align: right;\n",
       "    }\n",
       "</style>\n",
       "<table border=\"1\" class=\"dataframe\">\n",
       "  <thead>\n",
       "    <tr style=\"text-align: right;\">\n",
       "      <th></th>\n",
       "      <th>cool</th>\n",
       "      <th>funny</th>\n",
       "      <th>useful</th>\n",
       "      <th>text_length</th>\n",
       "    </tr>\n",
       "    <tr>\n",
       "      <th>stars</th>\n",
       "      <th></th>\n",
       "      <th></th>\n",
       "      <th></th>\n",
       "      <th></th>\n",
       "    </tr>\n",
       "  </thead>\n",
       "  <tbody>\n",
       "    <tr>\n",
       "      <th>1</th>\n",
       "      <td>0.223792</td>\n",
       "      <td>0.568049</td>\n",
       "      <td>1.949469</td>\n",
       "      <td>736.929379</td>\n",
       "    </tr>\n",
       "    <tr>\n",
       "      <th>2</th>\n",
       "      <td>0.390094</td>\n",
       "      <td>0.613166</td>\n",
       "      <td>1.486395</td>\n",
       "      <td>739.896301</td>\n",
       "    </tr>\n",
       "    <tr>\n",
       "      <th>3</th>\n",
       "      <td>0.662352</td>\n",
       "      <td>0.574658</td>\n",
       "      <td>1.337192</td>\n",
       "      <td>695.693892</td>\n",
       "    </tr>\n",
       "    <tr>\n",
       "      <th>4</th>\n",
       "      <td>0.819798</td>\n",
       "      <td>0.528933</td>\n",
       "      <td>1.315794</td>\n",
       "      <td>609.663032</td>\n",
       "    </tr>\n",
       "    <tr>\n",
       "      <th>5</th>\n",
       "      <td>0.510537</td>\n",
       "      <td>0.294994</td>\n",
       "      <td>0.990804</td>\n",
       "      <td>471.914756</td>\n",
       "    </tr>\n",
       "  </tbody>\n",
       "</table>\n",
       "</div>"
      ],
      "text/plain": [
       "           cool     funny    useful  text_length\n",
       "stars                                           \n",
       "1      0.223792  0.568049  1.949469   736.929379\n",
       "2      0.390094  0.613166  1.486395   739.896301\n",
       "3      0.662352  0.574658  1.337192   695.693892\n",
       "4      0.819798  0.528933  1.315794   609.663032\n",
       "5      0.510537  0.294994  0.990804   471.914756"
      ]
     },
     "execution_count": 74,
     "metadata": {},
     "output_type": "execute_result"
    }
   ],
   "source": [
    "eval_cols = ['stars', 'cool','funny', 'useful', 'text_length']\n",
    "df.groupby('stars')[eval_cols[1:]].mean()"
   ]
  },
  {
   "cell_type": "code",
   "execution_count": 75,
   "metadata": {},
   "outputs": [
    {
     "data": {
      "text/html": [
       "<div>\n",
       "<style scoped>\n",
       "    .dataframe tbody tr th:only-of-type {\n",
       "        vertical-align: middle;\n",
       "    }\n",
       "\n",
       "    .dataframe tbody tr th {\n",
       "        vertical-align: top;\n",
       "    }\n",
       "\n",
       "    .dataframe thead th {\n",
       "        text-align: right;\n",
       "    }\n",
       "</style>\n",
       "<table border=\"1\" class=\"dataframe\">\n",
       "  <thead>\n",
       "    <tr style=\"text-align: right;\">\n",
       "      <th></th>\n",
       "      <th>cool</th>\n",
       "      <th>funny</th>\n",
       "      <th>useful</th>\n",
       "      <th>text_length</th>\n",
       "    </tr>\n",
       "    <tr>\n",
       "      <th>labels</th>\n",
       "      <th></th>\n",
       "      <th></th>\n",
       "      <th></th>\n",
       "      <th></th>\n",
       "    </tr>\n",
       "  </thead>\n",
       "  <tbody>\n",
       "    <tr>\n",
       "      <th>Negative</th>\n",
       "      <td>0.406830</td>\n",
       "      <td>0.580942</td>\n",
       "      <td>1.639010</td>\n",
       "      <td>724.144050</td>\n",
       "    </tr>\n",
       "    <tr>\n",
       "      <th>Positive</th>\n",
       "      <td>0.613374</td>\n",
       "      <td>0.372785</td>\n",
       "      <td>1.098872</td>\n",
       "      <td>517.719633</td>\n",
       "    </tr>\n",
       "  </tbody>\n",
       "</table>\n",
       "</div>"
      ],
      "text/plain": [
       "              cool     funny    useful  text_length\n",
       "labels                                             \n",
       "Negative  0.406830  0.580942  1.639010   724.144050\n",
       "Positive  0.613374  0.372785  1.098872   517.719633"
      ]
     },
     "execution_count": 75,
     "metadata": {},
     "output_type": "execute_result"
    }
   ],
   "source": [
    "eval_cols = ['stars', 'cool','funny', 'useful', 'text_length']\n",
    "df.groupby('labels')[eval_cols[1:]].mean()"
   ]
  },
  {
   "cell_type": "markdown",
   "metadata": {},
   "source": [
    "### Correlation of Mean of Variables"
   ]
  },
  {
   "cell_type": "code",
   "execution_count": 76,
   "metadata": {},
   "outputs": [
    {
     "data": {
      "text/html": [
       "<div>\n",
       "<style scoped>\n",
       "    .dataframe tbody tr th:only-of-type {\n",
       "        vertical-align: middle;\n",
       "    }\n",
       "\n",
       "    .dataframe tbody tr th {\n",
       "        vertical-align: top;\n",
       "    }\n",
       "\n",
       "    .dataframe thead th {\n",
       "        text-align: right;\n",
       "    }\n",
       "</style>\n",
       "<table border=\"1\" class=\"dataframe\">\n",
       "  <thead>\n",
       "    <tr style=\"text-align: right;\">\n",
       "      <th></th>\n",
       "      <th>cool</th>\n",
       "      <th>funny</th>\n",
       "      <th>useful</th>\n",
       "      <th>text_length</th>\n",
       "      <th>clean_text_length</th>\n",
       "    </tr>\n",
       "  </thead>\n",
       "  <tbody>\n",
       "    <tr>\n",
       "      <th>cool</th>\n",
       "      <td>1.000000</td>\n",
       "      <td>-0.116468</td>\n",
       "      <td>-0.632180</td>\n",
       "      <td>-0.394650</td>\n",
       "      <td>-0.325124</td>\n",
       "    </tr>\n",
       "    <tr>\n",
       "      <th>funny</th>\n",
       "      <td>-0.116468</td>\n",
       "      <td>1.000000</td>\n",
       "      <td>0.691824</td>\n",
       "      <td>0.953699</td>\n",
       "      <td>0.972433</td>\n",
       "    </tr>\n",
       "    <tr>\n",
       "      <th>useful</th>\n",
       "      <td>-0.632180</td>\n",
       "      <td>0.691824</td>\n",
       "      <td>1.000000</td>\n",
       "      <td>0.817515</td>\n",
       "      <td>0.784076</td>\n",
       "    </tr>\n",
       "    <tr>\n",
       "      <th>text_length</th>\n",
       "      <td>-0.394650</td>\n",
       "      <td>0.953699</td>\n",
       "      <td>0.817515</td>\n",
       "      <td>1.000000</td>\n",
       "      <td>0.997124</td>\n",
       "    </tr>\n",
       "    <tr>\n",
       "      <th>clean_text_length</th>\n",
       "      <td>-0.325124</td>\n",
       "      <td>0.972433</td>\n",
       "      <td>0.784076</td>\n",
       "      <td>0.997124</td>\n",
       "      <td>1.000000</td>\n",
       "    </tr>\n",
       "  </tbody>\n",
       "</table>\n",
       "</div>"
      ],
      "text/plain": [
       "                       cool     funny    useful  text_length  \\\n",
       "cool               1.000000 -0.116468 -0.632180    -0.394650   \n",
       "funny             -0.116468  1.000000  0.691824     0.953699   \n",
       "useful            -0.632180  0.691824  1.000000     0.817515   \n",
       "text_length       -0.394650  0.953699  0.817515     1.000000   \n",
       "clean_text_length -0.325124  0.972433  0.784076     0.997124   \n",
       "\n",
       "                   clean_text_length  \n",
       "cool                       -0.325124  \n",
       "funny                       0.972433  \n",
       "useful                      0.784076  \n",
       "text_length                 0.997124  \n",
       "clean_text_length           1.000000  "
      ]
     },
     "execution_count": 76,
     "metadata": {},
     "output_type": "execute_result"
    }
   ],
   "source": [
    "eval_cols = ['stars', 'cool','funny', 'useful', 'text_length', 'clean_text_length']\n",
    "cor_data = df.groupby('stars')[eval_cols[1:]].mean()\n",
    "\n",
    "cor_data.corr()"
   ]
  },
  {
   "cell_type": "markdown",
   "metadata": {},
   "source": [
    "### Mean against the Number of Reviews"
   ]
  },
  {
   "cell_type": "code",
   "execution_count": 77,
   "metadata": {},
   "outputs": [
    {
     "data": {
      "image/png": "[encoded data removed]",
      "text/plain": [
       "<Figure size 432x288 with 2 Axes>"
      ]
     },
     "metadata": {
      "needs_background": "light"
     },
     "output_type": "display_data"
    }
   ],
   "source": [
    "plot_mean_frequency(df)"
   ]
  },
  {
   "cell_type": "markdown",
   "metadata": {},
   "source": [
    "### Mean, Count and Bayesian Estimation of Stars"
   ]
  },
  {
   "cell_type": "code",
   "execution_count": 78,
   "metadata": {},
   "outputs": [
    {
     "data": {
      "text/html": [
       "<div>\n",
       "<style scoped>\n",
       "    .dataframe tbody tr th:only-of-type {\n",
       "        vertical-align: middle;\n",
       "    }\n",
       "\n",
       "    .dataframe tbody tr th {\n",
       "        vertical-align: top;\n",
       "    }\n",
       "\n",
       "    .dataframe thead th {\n",
       "        text-align: right;\n",
       "    }\n",
       "</style>\n",
       "<table border=\"1\" class=\"dataframe\">\n",
       "  <thead>\n",
       "    <tr style=\"text-align: right;\">\n",
       "      <th></th>\n",
       "      <th>mean</th>\n",
       "      <th>count</th>\n",
       "      <th>bayes</th>\n",
       "    </tr>\n",
       "    <tr>\n",
       "      <th>business_id</th>\n",
       "      <th></th>\n",
       "      <th></th>\n",
       "      <th></th>\n",
       "    </tr>\n",
       "  </thead>\n",
       "  <tbody>\n",
       "    <tr>\n",
       "      <th>8mIrX_LrOnAqWsB5JrOojQ</th>\n",
       "      <td>4.429319</td>\n",
       "      <td>191</td>\n",
       "      <td>4.184647</td>\n",
       "    </tr>\n",
       "    <tr>\n",
       "      <th>mz9ltimeAIy2c2qf5ctljw</th>\n",
       "      <td>4.381295</td>\n",
       "      <td>278</td>\n",
       "      <td>4.208841</td>\n",
       "    </tr>\n",
       "    <tr>\n",
       "      <th>5FIOXmUE3qMviX9GafGH-Q</th>\n",
       "      <td>4.471795</td>\n",
       "      <td>195</td>\n",
       "      <td>4.222449</td>\n",
       "    </tr>\n",
       "    <tr>\n",
       "      <th>SUd3IyEN7n5OYEGyt_U5lg</th>\n",
       "      <td>4.698113</td>\n",
       "      <td>106</td>\n",
       "      <td>4.233974</td>\n",
       "    </tr>\n",
       "    <tr>\n",
       "      <th>qx6WhZ42eDKmBchZDax4dQ</th>\n",
       "      <td>4.640212</td>\n",
       "      <td>189</td>\n",
       "      <td>4.349372</td>\n",
       "    </tr>\n",
       "    <tr>\n",
       "      <th>faPVqws-x-5k2CQKDNtHxw</th>\n",
       "      <td>4.450730</td>\n",
       "      <td>548</td>\n",
       "      <td>4.350334</td>\n",
       "    </tr>\n",
       "    <tr>\n",
       "      <th>SVGApDPNdpFlEjwRQThCxA</th>\n",
       "      <td>4.593857</td>\n",
       "      <td>293</td>\n",
       "      <td>4.397959</td>\n",
       "    </tr>\n",
       "    <tr>\n",
       "      <th>NCFwm2-TDb-oBQ2medmYDg</th>\n",
       "      <td>4.699482</td>\n",
       "      <td>193</td>\n",
       "      <td>4.401235</td>\n",
       "    </tr>\n",
       "    <tr>\n",
       "      <th>qHQPvp6pZ75fB63kOKUPqg</th>\n",
       "      <td>4.980000</td>\n",
       "      <td>100</td>\n",
       "      <td>4.403333</td>\n",
       "    </tr>\n",
       "    <tr>\n",
       "      <th>Xg5qEQiB-7L6kGJ5F4K3bQ</th>\n",
       "      <td>4.807818</td>\n",
       "      <td>307</td>\n",
       "      <td>4.589636</td>\n",
       "    </tr>\n",
       "  </tbody>\n",
       "</table>\n",
       "</div>"
      ],
      "text/plain": [
       "                            mean  count     bayes\n",
       "business_id                                      \n",
       "8mIrX_LrOnAqWsB5JrOojQ  4.429319    191  4.184647\n",
       "mz9ltimeAIy2c2qf5ctljw  4.381295    278  4.208841\n",
       "5FIOXmUE3qMviX9GafGH-Q  4.471795    195  4.222449\n",
       "SUd3IyEN7n5OYEGyt_U5lg  4.698113    106  4.233974\n",
       "qx6WhZ42eDKmBchZDax4dQ  4.640212    189  4.349372\n",
       "faPVqws-x-5k2CQKDNtHxw  4.450730    548  4.350334\n",
       "SVGApDPNdpFlEjwRQThCxA  4.593857    293  4.397959\n",
       "NCFwm2-TDb-oBQ2medmYDg  4.699482    193  4.401235\n",
       "qHQPvp6pZ75fB63kOKUPqg  4.980000    100  4.403333\n",
       "Xg5qEQiB-7L6kGJ5F4K3bQ  4.807818    307  4.589636"
      ]
     },
     "execution_count": 78,
     "metadata": {},
     "output_type": "execute_result"
    }
   ],
   "source": [
    "top_businesses(df)"
   ]
  },
  {
   "cell_type": "markdown",
   "metadata": {},
   "source": [
    "### Stars [1, 5, 4, 3, 2] Histogram"
   ]
  },
  {
   "cell_type": "code",
   "execution_count": 79,
   "metadata": {},
   "outputs": [
    {
     "data": {
      "image/png": "[encoded data removed]",
      "text/plain": [
       "<Figure size 432x288 with 1 Axes>"
      ]
     },
     "metadata": {
      "needs_background": "light"
     },
     "output_type": "display_data"
    }
   ],
   "source": [
    "df['stars'].hist();"
   ]
  },
  {
   "cell_type": "code",
   "execution_count": 80,
   "metadata": {},
   "outputs": [
    {
     "data": {
      "text/plain": [
       "Positive    66470\n",
       "Negative    33530\n",
       "Name: labels, dtype: int64"
      ]
     },
     "execution_count": 80,
     "metadata": {},
     "output_type": "execute_result"
    }
   ],
   "source": [
    "df['labels'].value_counts()"
   ]
  }
 ],
 "metadata": {
  "kernelspec": {
   "display_name": "Python 3",
   "language": "python",
   "name": "python3"
  },
  "language_info": {
   "codemirror_mode": {
    "name": "ipython",
    "version": 3
   },
   "file_extension": ".py",
   "mimetype": "text/x-python",
   "name": "python",
   "nbconvert_exporter": "python",
   "pygments_lexer": "ipython3",
   "version": "3.6.8"
  },
  "nbTranslate": {
   "displayLangs": [
    "*"
   ],
   "hotkey": "alt-t",
   "langInMainMenu": true,
   "sourceLang": "en",
   "targetLang": "fr",
   "useGoogleTranslate": true
  },
  "toc": {
   "nav_menu": {},
   "number_sections": true,
   "sideBar": true,
   "skip_h1_title": false,
   "title_cell": "Table of Contents",
   "title_sidebar": "Contents",
   "toc_cell": false,
   "toc_position": {},
   "toc_section_display": true,
   "toc_window_display": false
  },
  "varInspector": {
   "cols": {
    "lenName": 16,
    "lenType": 16,
    "lenVar": 40
   },
   "kernels_config": {
    "python": {
     "delete_cmd_postfix": "",
     "delete_cmd_prefix": "del ",
     "library": "var_list.py",
     "varRefreshCmd": "print(var_dic_list())"
    },
    "r": {
     "delete_cmd_postfix": ") ",
     "delete_cmd_prefix": "rm(",
     "library": "var_list.r",
     "varRefreshCmd": "cat(var_dic_list()) "
    }
   },
   "types_to_exclude": [
    "module",
    "function",
    "builtin_function_or_method",
    "instance",
    "_Feature"
   ],
   "window_display": false
  }
 },
 "nbformat": 4,
 "nbformat_minor": 2
}
